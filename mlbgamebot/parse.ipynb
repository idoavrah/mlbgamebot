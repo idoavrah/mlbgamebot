{
 "cells": [
  {
   "cell_type": "code",
   "execution_count": null,
   "metadata": {},
   "outputs": [],
   "source": [
    "import json\n",
    "import pandas as pd\n",
    "\n",
    "year = 2019\n",
    "\n",
    "allgames = pd.DataFrame()\n",
    "allPlays = pd.DataFrame()\n",
    "\n",
    "for year, month, day in [(year, month, day) for year in [year] for month in range(3,11) for day in range(1,30)]:\n",
    "    filename = f'../data/schedule/{year}-{month:02d}-{day:02d}.json'\n",
    "    with open(filename, 'r') as infile:\n",
    "        data = json.loads(infile.read())\n",
    "        games = data[\"dates\"][0][\"games\"] if data[\"dates\"] else []\n",
    "        norm = pd.json_normalize(games)\n",
    "        allgames = pd.concat([allgames, norm])\n",
    "        \n",
    "for index, row in allgames.iterrows():\n",
    "    gamepk = row[\"gamePk\"]\n",
    "    filename = f'../data/games/{gamepk}.json'\n",
    "    try:\n",
    "        with open(filename, 'r') as infile:\n",
    "            data = json.loads(infile.read())\n",
    "            plays = data[\"allPlays\"] if data[\"allPlays\"] else []\n",
    "            norm = pd.json_normalize(plays)\n",
    "            allPlays = pd.concat([allgames, norm])\n",
    "    except:\n",
    "        pass\n",
    "        "
   ]
  },
  {
   "cell_type": "code",
   "execution_count": null,
   "metadata": {},
   "outputs": [],
   "source": [
    "allgames.groupby(\"seriesDescription\").count()"
   ]
  },
  {
   "cell_type": "code",
   "execution_count": null,
   "metadata": {},
   "outputs": [],
   "source": [
    "allgames[allgames['seriesDescription']=='Regular Season'].groupby(\"teams.home.team.name\").count()"
   ]
  },
  {
   "cell_type": "code",
   "execution_count": null,
   "metadata": {},
   "outputs": [],
   "source": [
    "import json\n",
    "import pandas as pd\n",
    "from jsonpath_ng import jsonpath, parse\n",
    "\n",
    "filename = f'../data/games/564721.json'\n",
    "\n",
    "with open(filename, 'r') as infile:\n",
    "    #atbats = pd.json_normalize([rec[\"result\"] | rec[\"count\"] | rec[\"about\"] for rec in data.get(\"allPlays\")])\n",
    "\n",
    "    data = json.load(infile)\n",
    "    atbats = [match.value for match in parse('allPlays[*]').find(data)]\n",
    "\n",
    "    columns = ['gameID', 'eventNum', 'inning', 'half', 'atbat', 'balls',\n",
    "               'strikes', 'outs', 'pitches', 'homeScore', 'awayScore', 'event', 'result']\n",
    "    \n",
    "    for atbat in atbats:\n",
    "        for play in atbat[\"playEvents\"]:\n",
    "            if not play[\"details\"].get(\"event\"):\n",
    "                continue\n",
    "            print(f'{atbat[\"about\"][\"inning\"]} {play[\"details\"][\"event\"]}')\n",
    "        print(f'{atbat[\"about\"][\"inning\"]} {atbat[\"about\"][\"halfInning\"]:10s} {atbat[\"result\"][\"event\"]}')\n"
   ]
  },
  {
   "cell_type": "code",
   "execution_count": null,
   "metadata": {},
   "outputs": [],
   "source": [
    "atbats.groupby(\"event\").count()"
   ]
  },
  {
   "cell_type": "code",
   "execution_count": null,
   "metadata": {},
   "outputs": [],
   "source": [
    "import json\n",
    "import pandas as pd\n",
    "from jsonpath_ng import jsonpath, parse\n",
    "\n",
    "filename = f'../data/schedule/2018-08-19.json'\n",
    "with open(filename, 'r') as infile:\n",
    "    data = json.load(infile)\n",
    "    games = [match.value for match in parse('dates[*].games').find(data)][0]\n",
    "    \n",
    "    for game in games:\n",
    "        print(game[\"gamePk\"])\n",
    "\n"
   ]
  },
  {
   "cell_type": "code",
   "execution_count": null,
   "metadata": {},
   "outputs": [],
   "source": [
    "import feather, glob\n",
    "import pandas as pd\n",
    "\n",
    "files = glob.glob(f'../data/parsed/2019/*.ftr')\n",
    "\n",
    "large = pd.DataFrame()\n",
    "li = []\n",
    "\n",
    "for filename in files:\n",
    "    df = feather.read_dataframe(filename)\n",
    "    li.append(df)\n",
    "\n",
    "total = pd.concat(li)\n"
   ]
  },
  {
   "cell_type": "code",
   "execution_count": null,
   "metadata": {},
   "outputs": [],
   "source": [
    "games = total[[\"homeTeam\", \"seriesDescription\", \"gamePk\"]].groupby([\"seriesDescription\", \"homeTeam\"]).nunique(\"gamePk\")"
   ]
  },
  {
   "cell_type": "code",
   "execution_count": 138,
   "metadata": {},
   "outputs": [],
   "source": [
    "import feather\n",
    "import glob\n",
    "import pandas as pd\n",
    "import plotly.graph_objects as go\n",
    "import plotly.express as px\n",
    "\n",
    "files = glob.glob(f'../data/parsed/2022/2022-03-20*.ftr')\n",
    "\n",
    "large = pd.DataFrame()\n",
    "li = []\n",
    "\n",
    "for filename in files:\n",
    "    df = feather.read_dataframe(filename)\n",
    "    li.append(df)\n",
    "\n",
    "total = pd.concat(li)\n",
    "\n",
    "SHORT_NAMES = {'Los Angeles Angels': \"LAA\",\n",
    "               'Houston Astros': \"HOU\",\n",
    "               'Oakland Athletics': \"OAK\",\n",
    "               'Toronto Blue Jays': \"TOR\",\n",
    "               'Atlanta Braves': \"ATL\",\n",
    "               'Milwaukee Brewers': \"MIL\",\n",
    "               'St. Louis Cardinals': \"STL\",\n",
    "               'Chicago Cubs': \"CHC\",\n",
    "               'Arizona Diamondbacks': \"ARI\",\n",
    "               'Los Angeles Dodgers': \"LAD\",\n",
    "               'San Francisco Giants': \"SF\",\n",
    "               'Cleveland Guardians': \"CLE\",\n",
    "               'Cleveland Indians': \"CLE\",\n",
    "               'Seattle Mariners': \"SEA\",\n",
    "               'Miami Marlins': \"MIA\",\n",
    "               'New York Mets': \"NYM\",\n",
    "               'Washington Nationals': \"WAS\",\n",
    "               'Baltimore Orioles': \"BAL\",\n",
    "               'San Diego Padres': \"SD\",\n",
    "               'Philadelphia Phillies': \"PHI\",\n",
    "               'Pittsburgh Pirates': \"PIT\",\n",
    "               'Texas Rangers': \"TEX\",\n",
    "               'Tampa Bay Rays': \"TB\",\n",
    "               'Boston Red Sox': \"BOS\",\n",
    "               'Cincinnati Reds': \"CIN\",\n",
    "               'Colorado Rockies': \"COL\",\n",
    "               'Kansas City Royals': \"KC\",\n",
    "               'Detroit Tigers': \"DET\",\n",
    "               'Minnesota Twins': \"MIN\",\n",
    "               'Chicago White Sox': \"CHS\",\n",
    "               'New York Yankees': \"NYY\"}\n",
    "\n",
    "total = total[[\"homeTeam\", \"awayTeam\", \"gamePk\", \"defenseScore\", \"offenseScore\", \"thrillScore\"]\n",
    "              ].drop_duplicates().replace({\"homeTeam\": SHORT_NAMES, \"awayTeam\": SHORT_NAMES})\n",
    "\n",
    "total[[\"defenseScore\", \"offenseScore\", \"thrillScore\"]] = total[[\"defenseScore\", \"offenseScore\", \"thrillScore\"]].clip(\n",
    "    lower=0, upper=10)\n",
    "\n",
    "games = total\n"
   ]
  },
  {
   "cell_type": "code",
   "execution_count": 144,
   "metadata": {},
   "outputs": [
    {
     "data": {
      "application/vnd.plotly.v1+json": {
       "config": {
        "plotlyServerURL": "https://plot.ly"
       },
       "data": [
        {
         "legendgrouptitle": {
          "text": "blah"
         },
         "marker": {
          "color": [
           5.699999999999999,
           6.888125000000001,
           7.281250000000001,
           6.579500000000001,
           5.7631875,
           4.3235,
           3.7006250000000005,
           2.99375,
           8.7335,
           4.702906250000001,
           4.78,
           6.1075,
           4.03034375,
           3.6565625000000006
          ],
          "colorscale": [
           [
            0,
            "rgb(150,0,90)"
           ],
           [
            0.125,
            "rgb(0,0,200)"
           ],
           [
            0.25,
            "rgb(0,25,255)"
           ],
           [
            0.375,
            "rgb(0,152,255)"
           ],
           [
            0.5,
            "rgb(44,255,150)"
           ],
           [
            0.625,
            "rgb(151,255,0)"
           ],
           [
            0.75,
            "rgb(255,234,0)"
           ],
           [
            0.875,
            "rgb(255,111,0)"
           ],
           [
            1,
            "rgb(255,0,0)"
           ]
          ],
          "line": {
           "color": "DarkSlateGrey",
           "width": 1
          },
          "showscale": true,
          "size": [
           35.599999999999994,
           45.10500000000001,
           48.25000000000001,
           42.63600000000001,
           36.1055,
           24.588,
           19.605000000000004,
           13.95,
           59.867999999999995,
           27.623250000000006,
           28.240000000000002,
           38.86,
           22.24275,
           19.252500000000005
          ]
         },
         "mode": "markers+text",
         "text": [
          "TOR @ PIT",
          "SEA @ LAA",
          "OAK @ CLE",
          "NYY @ DET",
          "NYM @ STL",
          "MIN @ TB",
          "MIL @ SD",
          "LAD @ CHC",
          "KC @ ARI",
          "HOU @ WAS",
          "COL @ CHS",
          "CIN @ SF",
          "BOS @ BAL",
          "ATL @ PHI"
         ],
         "textposition": "bottom center",
         "type": "scatter",
         "x": [
          3.06875,
          5.375,
          3.45625,
          4.35,
          5.44375,
          5.9375,
          5.69375,
          6.4375,
          2.9375,
          6.06875,
          5.69375,
          3.20625,
          5.225,
          5.95625
         ],
         "y": [
          7.75,
          6.125,
          9.25,
          7.125,
          5.5,
          3.5,
          5.125,
          3.5,
          10,
          4.25,
          5.125,
          8,
          4.25,
          3.75
         ]
        }
       ],
       "layout": {
        "font": {
         "size": 16
        },
        "height": 1000,
        "paper_bgcolor": "rgb(200, 200, 200)",
        "template": {
         "data": {
          "bar": [
           {
            "error_x": {
             "color": "#2a3f5f"
            },
            "error_y": {
             "color": "#2a3f5f"
            },
            "marker": {
             "line": {
              "color": "#E5ECF6",
              "width": 0.5
             },
             "pattern": {
              "fillmode": "overlay",
              "size": 10,
              "solidity": 0.2
             }
            },
            "type": "bar"
           }
          ],
          "barpolar": [
           {
            "marker": {
             "line": {
              "color": "#E5ECF6",
              "width": 0.5
             },
             "pattern": {
              "fillmode": "overlay",
              "size": 10,
              "solidity": 0.2
             }
            },
            "type": "barpolar"
           }
          ],
          "carpet": [
           {
            "aaxis": {
             "endlinecolor": "#2a3f5f",
             "gridcolor": "white",
             "linecolor": "white",
             "minorgridcolor": "white",
             "startlinecolor": "#2a3f5f"
            },
            "baxis": {
             "endlinecolor": "#2a3f5f",
             "gridcolor": "white",
             "linecolor": "white",
             "minorgridcolor": "white",
             "startlinecolor": "#2a3f5f"
            },
            "type": "carpet"
           }
          ],
          "choropleth": [
           {
            "colorbar": {
             "outlinewidth": 0,
             "ticks": ""
            },
            "type": "choropleth"
           }
          ],
          "contour": [
           {
            "colorbar": {
             "outlinewidth": 0,
             "ticks": ""
            },
            "colorscale": [
             [
              0,
              "#0d0887"
             ],
             [
              0.1111111111111111,
              "#46039f"
             ],
             [
              0.2222222222222222,
              "#7201a8"
             ],
             [
              0.3333333333333333,
              "#9c179e"
             ],
             [
              0.4444444444444444,
              "#bd3786"
             ],
             [
              0.5555555555555556,
              "#d8576b"
             ],
             [
              0.6666666666666666,
              "#ed7953"
             ],
             [
              0.7777777777777778,
              "#fb9f3a"
             ],
             [
              0.8888888888888888,
              "#fdca26"
             ],
             [
              1,
              "#f0f921"
             ]
            ],
            "type": "contour"
           }
          ],
          "contourcarpet": [
           {
            "colorbar": {
             "outlinewidth": 0,
             "ticks": ""
            },
            "type": "contourcarpet"
           }
          ],
          "heatmap": [
           {
            "colorbar": {
             "outlinewidth": 0,
             "ticks": ""
            },
            "colorscale": [
             [
              0,
              "#0d0887"
             ],
             [
              0.1111111111111111,
              "#46039f"
             ],
             [
              0.2222222222222222,
              "#7201a8"
             ],
             [
              0.3333333333333333,
              "#9c179e"
             ],
             [
              0.4444444444444444,
              "#bd3786"
             ],
             [
              0.5555555555555556,
              "#d8576b"
             ],
             [
              0.6666666666666666,
              "#ed7953"
             ],
             [
              0.7777777777777778,
              "#fb9f3a"
             ],
             [
              0.8888888888888888,
              "#fdca26"
             ],
             [
              1,
              "#f0f921"
             ]
            ],
            "type": "heatmap"
           }
          ],
          "heatmapgl": [
           {
            "colorbar": {
             "outlinewidth": 0,
             "ticks": ""
            },
            "colorscale": [
             [
              0,
              "#0d0887"
             ],
             [
              0.1111111111111111,
              "#46039f"
             ],
             [
              0.2222222222222222,
              "#7201a8"
             ],
             [
              0.3333333333333333,
              "#9c179e"
             ],
             [
              0.4444444444444444,
              "#bd3786"
             ],
             [
              0.5555555555555556,
              "#d8576b"
             ],
             [
              0.6666666666666666,
              "#ed7953"
             ],
             [
              0.7777777777777778,
              "#fb9f3a"
             ],
             [
              0.8888888888888888,
              "#fdca26"
             ],
             [
              1,
              "#f0f921"
             ]
            ],
            "type": "heatmapgl"
           }
          ],
          "histogram": [
           {
            "marker": {
             "pattern": {
              "fillmode": "overlay",
              "size": 10,
              "solidity": 0.2
             }
            },
            "type": "histogram"
           }
          ],
          "histogram2d": [
           {
            "colorbar": {
             "outlinewidth": 0,
             "ticks": ""
            },
            "colorscale": [
             [
              0,
              "#0d0887"
             ],
             [
              0.1111111111111111,
              "#46039f"
             ],
             [
              0.2222222222222222,
              "#7201a8"
             ],
             [
              0.3333333333333333,
              "#9c179e"
             ],
             [
              0.4444444444444444,
              "#bd3786"
             ],
             [
              0.5555555555555556,
              "#d8576b"
             ],
             [
              0.6666666666666666,
              "#ed7953"
             ],
             [
              0.7777777777777778,
              "#fb9f3a"
             ],
             [
              0.8888888888888888,
              "#fdca26"
             ],
             [
              1,
              "#f0f921"
             ]
            ],
            "type": "histogram2d"
           }
          ],
          "histogram2dcontour": [
           {
            "colorbar": {
             "outlinewidth": 0,
             "ticks": ""
            },
            "colorscale": [
             [
              0,
              "#0d0887"
             ],
             [
              0.1111111111111111,
              "#46039f"
             ],
             [
              0.2222222222222222,
              "#7201a8"
             ],
             [
              0.3333333333333333,
              "#9c179e"
             ],
             [
              0.4444444444444444,
              "#bd3786"
             ],
             [
              0.5555555555555556,
              "#d8576b"
             ],
             [
              0.6666666666666666,
              "#ed7953"
             ],
             [
              0.7777777777777778,
              "#fb9f3a"
             ],
             [
              0.8888888888888888,
              "#fdca26"
             ],
             [
              1,
              "#f0f921"
             ]
            ],
            "type": "histogram2dcontour"
           }
          ],
          "mesh3d": [
           {
            "colorbar": {
             "outlinewidth": 0,
             "ticks": ""
            },
            "type": "mesh3d"
           }
          ],
          "parcoords": [
           {
            "line": {
             "colorbar": {
              "outlinewidth": 0,
              "ticks": ""
             }
            },
            "type": "parcoords"
           }
          ],
          "pie": [
           {
            "automargin": true,
            "type": "pie"
           }
          ],
          "scatter": [
           {
            "marker": {
             "colorbar": {
              "outlinewidth": 0,
              "ticks": ""
             }
            },
            "type": "scatter"
           }
          ],
          "scatter3d": [
           {
            "line": {
             "colorbar": {
              "outlinewidth": 0,
              "ticks": ""
             }
            },
            "marker": {
             "colorbar": {
              "outlinewidth": 0,
              "ticks": ""
             }
            },
            "type": "scatter3d"
           }
          ],
          "scattercarpet": [
           {
            "marker": {
             "colorbar": {
              "outlinewidth": 0,
              "ticks": ""
             }
            },
            "type": "scattercarpet"
           }
          ],
          "scattergeo": [
           {
            "marker": {
             "colorbar": {
              "outlinewidth": 0,
              "ticks": ""
             }
            },
            "type": "scattergeo"
           }
          ],
          "scattergl": [
           {
            "marker": {
             "colorbar": {
              "outlinewidth": 0,
              "ticks": ""
             }
            },
            "type": "scattergl"
           }
          ],
          "scattermapbox": [
           {
            "marker": {
             "colorbar": {
              "outlinewidth": 0,
              "ticks": ""
             }
            },
            "type": "scattermapbox"
           }
          ],
          "scatterpolar": [
           {
            "marker": {
             "colorbar": {
              "outlinewidth": 0,
              "ticks": ""
             }
            },
            "type": "scatterpolar"
           }
          ],
          "scatterpolargl": [
           {
            "marker": {
             "colorbar": {
              "outlinewidth": 0,
              "ticks": ""
             }
            },
            "type": "scatterpolargl"
           }
          ],
          "scatterternary": [
           {
            "marker": {
             "colorbar": {
              "outlinewidth": 0,
              "ticks": ""
             }
            },
            "type": "scatterternary"
           }
          ],
          "surface": [
           {
            "colorbar": {
             "outlinewidth": 0,
             "ticks": ""
            },
            "colorscale": [
             [
              0,
              "#0d0887"
             ],
             [
              0.1111111111111111,
              "#46039f"
             ],
             [
              0.2222222222222222,
              "#7201a8"
             ],
             [
              0.3333333333333333,
              "#9c179e"
             ],
             [
              0.4444444444444444,
              "#bd3786"
             ],
             [
              0.5555555555555556,
              "#d8576b"
             ],
             [
              0.6666666666666666,
              "#ed7953"
             ],
             [
              0.7777777777777778,
              "#fb9f3a"
             ],
             [
              0.8888888888888888,
              "#fdca26"
             ],
             [
              1,
              "#f0f921"
             ]
            ],
            "type": "surface"
           }
          ],
          "table": [
           {
            "cells": {
             "fill": {
              "color": "#EBF0F8"
             },
             "line": {
              "color": "white"
             }
            },
            "header": {
             "fill": {
              "color": "#C8D4E3"
             },
             "line": {
              "color": "white"
             }
            },
            "type": "table"
           }
          ]
         },
         "layout": {
          "annotationdefaults": {
           "arrowcolor": "#2a3f5f",
           "arrowhead": 0,
           "arrowwidth": 1
          },
          "autotypenumbers": "strict",
          "coloraxis": {
           "colorbar": {
            "outlinewidth": 0,
            "ticks": ""
           }
          },
          "colorscale": {
           "diverging": [
            [
             0,
             "#8e0152"
            ],
            [
             0.1,
             "#c51b7d"
            ],
            [
             0.2,
             "#de77ae"
            ],
            [
             0.3,
             "#f1b6da"
            ],
            [
             0.4,
             "#fde0ef"
            ],
            [
             0.5,
             "#f7f7f7"
            ],
            [
             0.6,
             "#e6f5d0"
            ],
            [
             0.7,
             "#b8e186"
            ],
            [
             0.8,
             "#7fbc41"
            ],
            [
             0.9,
             "#4d9221"
            ],
            [
             1,
             "#276419"
            ]
           ],
           "sequential": [
            [
             0,
             "#0d0887"
            ],
            [
             0.1111111111111111,
             "#46039f"
            ],
            [
             0.2222222222222222,
             "#7201a8"
            ],
            [
             0.3333333333333333,
             "#9c179e"
            ],
            [
             0.4444444444444444,
             "#bd3786"
            ],
            [
             0.5555555555555556,
             "#d8576b"
            ],
            [
             0.6666666666666666,
             "#ed7953"
            ],
            [
             0.7777777777777778,
             "#fb9f3a"
            ],
            [
             0.8888888888888888,
             "#fdca26"
            ],
            [
             1,
             "#f0f921"
            ]
           ],
           "sequentialminus": [
            [
             0,
             "#0d0887"
            ],
            [
             0.1111111111111111,
             "#46039f"
            ],
            [
             0.2222222222222222,
             "#7201a8"
            ],
            [
             0.3333333333333333,
             "#9c179e"
            ],
            [
             0.4444444444444444,
             "#bd3786"
            ],
            [
             0.5555555555555556,
             "#d8576b"
            ],
            [
             0.6666666666666666,
             "#ed7953"
            ],
            [
             0.7777777777777778,
             "#fb9f3a"
            ],
            [
             0.8888888888888888,
             "#fdca26"
            ],
            [
             1,
             "#f0f921"
            ]
           ]
          },
          "colorway": [
           "#636efa",
           "#EF553B",
           "#00cc96",
           "#ab63fa",
           "#FFA15A",
           "#19d3f3",
           "#FF6692",
           "#B6E880",
           "#FF97FF",
           "#FECB52"
          ],
          "font": {
           "color": "#2a3f5f"
          },
          "geo": {
           "bgcolor": "white",
           "lakecolor": "white",
           "landcolor": "#E5ECF6",
           "showlakes": true,
           "showland": true,
           "subunitcolor": "white"
          },
          "hoverlabel": {
           "align": "left"
          },
          "hovermode": "closest",
          "mapbox": {
           "style": "light"
          },
          "paper_bgcolor": "white",
          "plot_bgcolor": "#E5ECF6",
          "polar": {
           "angularaxis": {
            "gridcolor": "white",
            "linecolor": "white",
            "ticks": ""
           },
           "bgcolor": "#E5ECF6",
           "radialaxis": {
            "gridcolor": "white",
            "linecolor": "white",
            "ticks": ""
           }
          },
          "scene": {
           "xaxis": {
            "backgroundcolor": "#E5ECF6",
            "gridcolor": "white",
            "gridwidth": 2,
            "linecolor": "white",
            "showbackground": true,
            "ticks": "",
            "zerolinecolor": "white"
           },
           "yaxis": {
            "backgroundcolor": "#E5ECF6",
            "gridcolor": "white",
            "gridwidth": 2,
            "linecolor": "white",
            "showbackground": true,
            "ticks": "",
            "zerolinecolor": "white"
           },
           "zaxis": {
            "backgroundcolor": "#E5ECF6",
            "gridcolor": "white",
            "gridwidth": 2,
            "linecolor": "white",
            "showbackground": true,
            "ticks": "",
            "zerolinecolor": "white"
           }
          },
          "shapedefaults": {
           "line": {
            "color": "#2a3f5f"
           }
          },
          "ternary": {
           "aaxis": {
            "gridcolor": "white",
            "linecolor": "white",
            "ticks": ""
           },
           "baxis": {
            "gridcolor": "white",
            "linecolor": "white",
            "ticks": ""
           },
           "bgcolor": "#E5ECF6",
           "caxis": {
            "gridcolor": "white",
            "linecolor": "white",
            "ticks": ""
           }
          },
          "title": {
           "x": 0.05
          },
          "xaxis": {
           "automargin": true,
           "gridcolor": "white",
           "linecolor": "white",
           "ticks": "",
           "title": {
            "standoff": 15
           },
           "zerolinecolor": "white",
           "zerolinewidth": 2
          },
          "yaxis": {
           "automargin": true,
           "gridcolor": "white",
           "linecolor": "white",
           "ticks": "",
           "title": {
            "standoff": 15
           },
           "zerolinecolor": "white",
           "zerolinewidth": 2
          }
         }
        },
        "title": {
         "font": {
          "size": 30
         },
         "text": "Today's Games"
        },
        "width": 1000,
        "xaxis": {
         "showgrid": false,
         "title": {
          "font": {
           "size": 30
          },
          "text": "Defense Score"
         },
         "zeroline": false
        },
        "yaxis": {
         "showgrid": false,
         "title": {
          "font": {
           "size": 30
          },
          "text": "Offense Score"
         },
         "zeroline": false
        }
       }
      }
     },
     "metadata": {},
     "output_type": "display_data"
    }
   ],
   "source": [
    "fig = go.Figure()\n",
    "\n",
    "fig.add_trace(go.Scatter(\n",
    "    x=games[\"defenseScore\"],\n",
    "    y=games[\"offenseScore\"],\n",
    "    mode='markers+text',\n",
    "    text=games['homeTeam'] + ' @ ' + games['awayTeam'],\n",
    "    textposition=\"bottom center\",\n",
    "    marker=dict(\n",
    "        size=games[\"thrillScore\"]*8-10,\n",
    "        color=games[\"thrillScore\"],\n",
    "        line=dict(width=1, color='DarkSlateGrey'),\n",
    "        colorscale='Rainbow',\n",
    "        showscale=True\n",
    "    )\n",
    "))\n",
    "\n",
    "fig.update_layout(width=1000, height=1000,\n",
    "                  paper_bgcolor='rgb(200, 200, 200)',\n",
    "                  title_font_size=30,\n",
    "                  font_size=16,\n",
    "                  title_text=\"Today's Games\",\n",
    "                  xaxis_title=\"Defense Score\",\n",
    "                  yaxis_title=\"Offense Score\")\n",
    "\n",
    "fig.update_xaxes(zeroline=False, title_font=dict(size=30), showgrid=False)\n",
    "fig.update_yaxes(zeroline=False, title_font=dict(size=30), showgrid=False)\n"
   ]
  }
 ],
 "metadata": {
  "interpreter": {
   "hash": "58b86eabceadf9a6183c436c63a2ee60aea1d12bf3047be4cab7a30534c2ebcf"
  },
  "kernelspec": {
   "display_name": "Python 3.9.9 64-bit (windows store)",
   "language": "python",
   "name": "python3"
  },
  "language_info": {
   "codemirror_mode": {
    "name": "ipython",
    "version": 3
   },
   "file_extension": ".py",
   "mimetype": "text/x-python",
   "name": "python",
   "nbconvert_exporter": "python",
   "pygments_lexer": "ipython3",
   "version": "3.9.11"
  },
  "orig_nbformat": 4
 },
 "nbformat": 4,
 "nbformat_minor": 2
}
