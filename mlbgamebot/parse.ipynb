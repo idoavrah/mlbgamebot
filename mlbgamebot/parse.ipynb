{
 "cells": [
  {
   "cell_type": "code",
   "execution_count": null,
   "metadata": {},
   "outputs": [],
   "source": [
    "import json\n",
    "import pandas as pd\n",
    "\n",
    "year = 2019\n",
    "\n",
    "allgames = pd.DataFrame()\n",
    "allPlays = pd.DataFrame()\n",
    "\n",
    "for year, month, day in [(year, month, day) for year in [year] for month in range(3,11) for day in range(1,30)]:\n",
    "    filename = f'../data/schedule/{year}-{month:02d}-{day:02d}.json'\n",
    "    with open(filename, 'r') as infile:\n",
    "        data = json.loads(infile.read())\n",
    "        games = data[\"dates\"][0][\"games\"] if data[\"dates\"] else []\n",
    "        norm = pd.json_normalize(games)\n",
    "        allgames = pd.concat([allgames, norm])\n",
    "        \n",
    "for index, row in allgames.iterrows():\n",
    "    gamepk = row[\"gamePk\"]\n",
    "    filename = f'../data/games/{gamepk}.json'\n",
    "    try:\n",
    "        with open(filename, 'r') as infile:\n",
    "            data = json.loads(infile.read())\n",
    "            plays = data[\"allPlays\"] if data[\"allPlays\"] else []\n",
    "            norm = pd.json_normalize(plays)\n",
    "            allPlays = pd.concat([allgames, norm])\n",
    "    except:\n",
    "        pass\n",
    "        "
   ]
  },
  {
   "cell_type": "code",
   "execution_count": null,
   "metadata": {},
   "outputs": [],
   "source": [
    "allgames.groupby(\"seriesDescription\").count()"
   ]
  },
  {
   "cell_type": "code",
   "execution_count": null,
   "metadata": {},
   "outputs": [],
   "source": [
    "allgames[allgames['seriesDescription']=='Regular Season'].groupby(\"teams.home.team.name\").count()"
   ]
  },
  {
   "cell_type": "code",
   "execution_count": null,
   "metadata": {},
   "outputs": [],
   "source": [
    "import json\n",
    "import pandas as pd\n",
    "from jsonpath_ng import jsonpath, parse\n",
    "\n",
    "filename = f'../data/games/564721.json'\n",
    "\n",
    "with open(filename, 'r') as infile:\n",
    "    #atbats = pd.json_normalize([rec[\"result\"] | rec[\"count\"] | rec[\"about\"] for rec in data.get(\"allPlays\")])\n",
    "\n",
    "    data = json.load(infile)\n",
    "    atbats = [match.value for match in parse('allPlays[*]').find(data)]\n",
    "\n",
    "    columns = ['gameID', 'eventNum', 'inning', 'half', 'atbat', 'balls',\n",
    "               'strikes', 'outs', 'pitches', 'homeScore', 'awayScore', 'event', 'result']\n",
    "    \n",
    "    for atbat in atbats:\n",
    "        for play in atbat[\"playEvents\"]:\n",
    "            if not play[\"details\"].get(\"event\"):\n",
    "                continue\n",
    "            print(f'{atbat[\"about\"][\"inning\"]} {play[\"details\"][\"event\"]}')\n",
    "        print(f'{atbat[\"about\"][\"inning\"]} {atbat[\"about\"][\"halfInning\"]:10s} {atbat[\"result\"][\"event\"]}')\n"
   ]
  },
  {
   "cell_type": "code",
   "execution_count": null,
   "metadata": {},
   "outputs": [],
   "source": [
    "atbats.groupby(\"event\").count()"
   ]
  },
  {
   "cell_type": "code",
   "execution_count": null,
   "metadata": {},
   "outputs": [],
   "source": [
    "import json\n",
    "import pandas as pd\n",
    "from jsonpath_ng import jsonpath, parse\n",
    "\n",
    "filename = f'../data/schedule/2018-08-19.json'\n",
    "with open(filename, 'r') as infile:\n",
    "    data = json.load(infile)\n",
    "    games = [match.value for match in parse('dates[*].games').find(data)][0]\n",
    "    \n",
    "    for game in games:\n",
    "        print(game[\"gamePk\"])\n",
    "\n"
   ]
  },
  {
   "cell_type": "code",
   "execution_count": 3,
   "metadata": {},
   "outputs": [],
   "source": [
    "import feather, glob\n",
    "import pandas as pd\n",
    "\n",
    "files = glob.glob(f'../data/parsed/2019/*.ftr')\n",
    "\n",
    "large = pd.DataFrame()\n",
    "li = []\n",
    "\n",
    "for filename in files:\n",
    "    df = feather.read_dataframe(filename)\n",
    "    li.append(df)\n",
    "\n",
    "total = pd.concat(li)\n"
   ]
  },
  {
   "cell_type": "code",
   "execution_count": 23,
   "metadata": {},
   "outputs": [],
   "source": [
    "blah = total[[\"homeTeam\", \"seriesDescription\", \"gamePk\"]].groupby([\"seriesDescription\", \"homeTeam\"]).nunique(\"gamePk\")"
   ]
  }
 ],
 "metadata": {
  "interpreter": {
   "hash": "58b86eabceadf9a6183c436c63a2ee60aea1d12bf3047be4cab7a30534c2ebcf"
  },
  "kernelspec": {
   "display_name": "Python 3.9.9 64-bit (windows store)",
   "language": "python",
   "name": "python3"
  },
  "language_info": {
   "codemirror_mode": {
    "name": "ipython",
    "version": 3
   },
   "file_extension": ".py",
   "mimetype": "text/x-python",
   "name": "python",
   "nbconvert_exporter": "python",
   "pygments_lexer": "ipython3",
   "version": "3.9.11"
  },
  "orig_nbformat": 4
 },
 "nbformat": 4,
 "nbformat_minor": 2
}
